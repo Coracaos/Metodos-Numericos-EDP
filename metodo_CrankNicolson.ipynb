{
 "cells": [
  {
   "cell_type": "markdown",
   "metadata": {},
   "source": [
    "# Metodo de Crank Nicolson "
   ]
  },
  {
   "cell_type": "markdown",
   "metadata": {},
   "source": [
    "Vamos aplicar este metodo a la ecuación del calor:"
   ]
  },
  {
   "cell_type": "markdown",
   "metadata": {},
   "source": [
    "$$\n",
    "\\begin{align*}    \n",
    "\\begin{cases}\n",
    " \\dfrac{\\partial u}{\\partial t} = c^2 \\dfrac{\\partial^2 u}{\\partial x^2} & \\text{para } (x,t) \\in (a,b)\\times(0,\\infty)\\\\ \n",
    " {\\scriptsize\\mbox{ tal que}} & \\\\ \n",
    " u(x,0) = f(x) & \\text{para } x\\in(a,b)    \\\\\n",
    " u(a,t) = 0 = u(b,t)  & \\text{para } t\\in(0,\\infty)\n",
    "\\end{cases} \n",
    "\\end{align*}\n",
    "$$"
   ]
  },
  {
   "cell_type": "markdown",
   "metadata": {},
   "source": [
    "Utilizamos la siguiente notación :"
   ]
  },
  {
   "cell_type": "markdown",
   "metadata": {},
   "source": [
    "$$ w_{i,j} = u(x_i,t_j) $$"
   ]
  },
  {
   "cell_type": "markdown",
   "metadata": {},
   "source": [
    "### Recordemos las formulas para aproximar las derivadas parciales"
   ]
  },
  {
   "cell_type": "markdown",
   "metadata": {},
   "source": [
    "$$\\frac{\\partial u}{\\partial t} \\simeq \\frac{ w_{i,j+1} - w_{i,j} }{ k }$$"
   ]
  },
  {
   "cell_type": "markdown",
   "metadata": {},
   "source": [
    "$$\\frac{\\partial^2 u}{\\partial x^2} \\simeq \\frac{ w_{i+1,j} - 2w_{i,j} + w_{i-1,j}}{h^2} $$"
   ]
  },
  {
   "cell_type": "markdown",
   "metadata": {},
   "source": [
    "### Ahora encontremos la formula para el metodo de Crank Nicoson"
   ]
  },
  {
   "cell_type": "markdown",
   "metadata": {},
   "source": [
    "Conocidas las aproximaciones de las derivadas parciales , reemplazemos sus aproximaciones en la ecuación del calor y luego procederemos a encontrar una formula que nos permita aproximar $w_{i,j+1}$"
   ]
  },
  {
   "cell_type": "markdown",
   "metadata": {},
   "source": [
    "#### Progresiva: en $t_j$"
   ]
  },
  {
   "cell_type": "markdown",
   "metadata": {},
   "source": [
    "$$ \\frac{ w_{i,j+1} - w_{i,j} }{ k } = c^2\\frac{ w_{i+1,j} - 2w_{i,j} + w_{i-1,j}}{h^2}$$"
   ]
  },
  {
   "cell_type": "markdown",
   "metadata": {},
   "source": [
    "#### Regresiva: en $t_{j+1}$"
   ]
  },
  {
   "cell_type": "markdown",
   "metadata": {},
   "source": [
    "$$ \\frac{ w_{i,j+1} - w_{i,j} }{ k } = c^2\\frac{ w_{i+1,j+1} - 2w_{i,j+1} + w_{i-1,j+1}}{h^2}$$"
   ]
  },
  {
   "cell_type": "markdown",
   "metadata": {},
   "source": [
    "Tomando la media aritmetica de las dos expresiones obtenemos:"
   ]
  },
  {
   "cell_type": "markdown",
   "metadata": {},
   "source": [
    "$$\\frac{ w_{i,j+1} - w_{i,j} }{ k } = \\frac{c^2}{2 h^2} ( w_{i+1,j} - 2w_{i,j} + w_{i-1,j} + w_{i+1,j+1} - 2w_{i,j+1} + w_{i-1,j+1} ) $$"
   ]
  },
  {
   "cell_type": "markdown",
   "metadata": {},
   "source": [
    "Sea $\\lambda = \\dfrac{c^2 k}{h^2}  $ :"
   ]
  },
  {
   "cell_type": "markdown",
   "metadata": {},
   "source": [
    "$$ w_{i,j+1} - w_{i,j} = \\frac{\\lambda}{2}w_{i+1,j} - \\lambda w_{i,j} + \\frac{\\lambda}{2}w_{i-1,j} + \\frac{\\lambda}{2}w_{i+1,j+1} - \\lambda w_{i,j+1} + \\frac{\\lambda}{2}w_{i-1,j+1} $$"
   ]
  },
  {
   "cell_type": "markdown",
   "metadata": {},
   "source": [
    "$$ -\\frac{\\lambda}{2} w_{i-1,j+1} + (1 + \\lambda)w_{i,j+1} - \\frac{\\lambda}{2}w_{i+1,j+1} = \\frac{\\lambda}{2}w_{i-1,j} + (1-\\lambda)w_{i,j} + \\frac{\\lambda}{2} w_{i+1,j}$$"
   ]
  },
  {
   "cell_type": "markdown",
   "metadata": {},
   "source": [
    "En forma matricial obtenemos :"
   ]
  },
  {
   "cell_type": "markdown",
   "metadata": {},
   "source": [
    "$$\n",
    "\\left( \\begin{array}{ccccc}\n",
    "1+\\lambda & -\\frac{\\lambda}{2}    & 0          & \\cdots  & 0          \\\\\n",
    "-\\frac{\\lambda}{2}    & 1+\\lambda & -\\frac{\\lambda}{2}    & \\cdots  & 0          \\\\\n",
    "0          & -\\frac{\\lambda}{2}    & 1+\\lambda & \\cdots  & 0          \\\\\n",
    "\\vdots     & \\vdots     & \\vdots     & \\ddots  & -\\frac{\\lambda}{2}   \\\\\n",
    "0          & 0          & 0          & -\\frac{\\lambda}{2} & 1+\\lambda \\\\        \n",
    "\\end{array} \\right) \\left( \\begin{array}{c}\n",
    "w_{1,j+1} \\\\\n",
    "w_{2,j+1} \\\\\n",
    "w_{3,j+1} \\\\\n",
    "\\vdots    \\\\\n",
    "w_{m-1,j+1}\n",
    "\\end{array} \\right) = \\left( \\begin{array}{ccccc}\n",
    "1-\\lambda & \\frac{\\lambda}{2}    & 0          & \\cdots  & 0          \\\\\n",
    "\\frac{\\lambda}{2}    & 1-\\lambda & \\frac{\\lambda}{2}    & \\cdots  & 0          \\\\\n",
    "0          & \\frac{\\lambda}{2}    & 1-\\lambda & \\cdots  & 0          \\\\\n",
    "\\vdots     & \\vdots     & \\vdots     & \\ddots  & \\frac{\\lambda}{2}   \\\\\n",
    "0          & 0          & 0          & \\frac{\\lambda}{2} & 1-\\lambda \\\\        \n",
    "\\end{array} \\right)  \\left( \\begin{array}{c}\n",
    "w_{1,j} \\\\\n",
    "w_{2,j} \\\\\n",
    "w_{3,j} \\\\\n",
    "\\vdots    \\\\\n",
    "w_{m-1,j}\n",
    "\\end{array} \\right)\n",
    "$$"
   ]
  },
  {
   "cell_type": "markdown",
   "metadata": {},
   "source": [
    "$$ Aw^{(j+1)} = Bw^{(j)}$$"
   ]
  },
  {
   "cell_type": "markdown",
   "metadata": {},
   "source": [
    "Y por fin llegamos a lo esperado :"
   ]
  },
  {
   "cell_type": "markdown",
   "metadata": {},
   "source": [
    "$$ \\boxed{w^{(j+1)} = A^{-1}(Bw^{(j)})} $$"
   ]
  },
  {
   "cell_type": "markdown",
   "metadata": {},
   "source": [
    "**OJO** : esta formula solo se cumple cuando las condiciones de contorno son iguales a cero."
   ]
  }
 ],
 "metadata": {
  "kernelspec": {
   "display_name": "Python 3",
   "language": "python",
   "name": "python3"
  },
  "language_info": {
   "codemirror_mode": {
    "name": "ipython",
    "version": 3
   },
   "file_extension": ".py",
   "mimetype": "text/x-python",
   "name": "python",
   "nbconvert_exporter": "python",
   "pygments_lexer": "ipython3",
   "version": "3.6.3"
  }
 },
 "nbformat": 4,
 "nbformat_minor": 2
}
