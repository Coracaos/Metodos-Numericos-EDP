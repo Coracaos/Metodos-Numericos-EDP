{
 "cells": [
  {
   "cell_type": "markdown",
   "metadata": {},
   "source": [
    "# Metodo Implicito"
   ]
  },
  {
   "cell_type": "markdown",
   "metadata": {},
   "source": [
    "Vamos aplicar este metodo a la ecuación del calor:"
   ]
  },
  {
   "cell_type": "markdown",
   "metadata": {},
   "source": [
    "$$\n",
    "\\begin{cases}\n",
    " \\dfrac{\\partial u}{\\partial t} = c^2 \\dfrac{\\partial^2 u}{\\partial x^2} & \\text{para } (x,t) \\in (a,b)\\times(0,\\infty)\\\\ \n",
    " {\\scriptsize\\mbox{ tal que}} & \\\\ \n",
    " u(x,0) = f(x) & \\text{para } x\\in(a,b)    \\\\\n",
    " u(a,t) = 0 = u(b,t)  & \\text{para } t\\in(0,\\infty)\n",
    "\\end{cases} \n",
    "$$"
   ]
  },
  {
   "cell_type": "markdown",
   "metadata": {},
   "source": [
    "Utilizamos la siguiente notación :"
   ]
  },
  {
   "cell_type": "markdown",
   "metadata": {},
   "source": [
    "$$ w_{i,j} = u(x_i,t_j) $$"
   ]
  },
  {
   "cell_type": "markdown",
   "metadata": {},
   "source": [
    "### Recordemos las formulas para aproximar las derivadas parciales"
   ]
  },
  {
   "cell_type": "markdown",
   "metadata": {},
   "source": [
    "$$\\frac{\\partial u}{\\partial t} \\simeq \\frac{ w_{i,j} - w_{i,j-1} }{ k }$$\n",
    "\n",
    "$$\\frac{\\partial^2 u}{\\partial x^2} \\simeq \\frac{ w_{i+1,j} - 2w_{i,j} + w_{i-1,j}}{h^2} $$"
   ]
  },
  {
   "cell_type": "markdown",
   "metadata": {},
   "source": [
    "### Ahora encontremos la formula para el Método Implícito "
   ]
  },
  {
   "cell_type": "markdown",
   "metadata": {},
   "source": [
    "Conocidas las aproximaciones de las derivadas parciales , reemplazemos sus aproximaciones en la ecuación del calor y luego procederemos a encontrar una formula que nos permita aproximar $w_{i,j}$"
   ]
  },
  {
   "cell_type": "markdown",
   "metadata": {},
   "source": [
    "$$ \\frac{ w_{i,j} - w_{i,j-1} }{ k } = c^2\\frac{ w_{i+1,j} - 2w_{i,j} + w_{i-1,j}}{h^2}$$"
   ]
  },
  {
   "cell_type": "markdown",
   "metadata": {},
   "source": [
    "sea $\\lambda = \\dfrac{c^2 k}{h^2}$ :"
   ]
  },
  {
   "cell_type": "markdown",
   "metadata": {},
   "source": [
    "$$ w_{i,j} - w_{i,j-1} = \\lambda w_{i+1,j} - 2\\lambda w_{i,j} + \\lambda w_{i-1,j}$$"
   ]
  },
  {
   "cell_type": "markdown",
   "metadata": {},
   "source": [
    "$$ w_{i,j-1} = -\\lambda w_{i-1, j} + (1 + 2\\lambda)w_{i, j} -\\lambda w_{i+1, j}$$"
   ]
  },
  {
   "cell_type": "markdown",
   "metadata": {},
   "source": [
    "expresemos esto matricialmente :"
   ]
  },
  {
   "cell_type": "markdown",
   "metadata": {},
   "source": [
    "$$\n",
    "\\left( \\begin{array}{c}\n",
    "        w_{1,j-1}  \\\\\n",
    "        w_{2,j-1}  \\\\\n",
    "        w_{3,j-1}  \\\\\n",
    "        \\vdots   \\\\\n",
    "        w_{m-1,j-1}\\\\\n",
    "       \\end{array}\n",
    "\\right)  = \\left( \\begin{array}{ccccc}\n",
    "        1+2\\lambda & -\\lambda    & 0          & \\cdots  & 0          \\\\\n",
    "        -\\lambda    & 1+2\\lambda & -\\lambda    & \\cdots  & 0          \\\\\n",
    "        0          & -\\lambda    & 1+2\\lambda & \\cdots  & 0          \\\\\n",
    "        \\vdots     & \\vdots     & \\vdots     & \\ddots  & -\\lambda   \\\\\n",
    "        0          & 0          & 0          & -\\lambda & 1+2\\lambda \\\\        \n",
    "        \\end{array}\n",
    "\\right) \\left( \\begin{array}{c}\n",
    "       w_{1,j}  \\\\\n",
    "       w_{2,j}  \\\\\n",
    "       w_{3,j}  \\\\\n",
    "       \\vdots     \\\\\n",
    "       w_{m-1,j}\\\\\n",
    "       \\end{array}\n",
    "\\right)       \n",
    "$$"
   ]
  },
  {
   "cell_type": "markdown",
   "metadata": {},
   "source": [
    "$$ w^{(j-1)} = Aw^{(j)} $$"
   ]
  },
  {
   "cell_type": "markdown",
   "metadata": {},
   "source": [
    "$$\\boxed{w^{(j)} = A^{-1}w^{(j-1)}}$$"
   ]
  },
  {
   "cell_type": "markdown",
   "metadata": {},
   "source": [
    "**OJO** : esta formula solo se cumple cuando las condiciones de contorno son iguales a cero."
   ]
  },
  {
   "cell_type": "code",
   "execution_count": null,
   "metadata": {},
   "outputs": [],
   "source": []
  }
 ],
 "metadata": {
  "kernelspec": {
   "display_name": "Python 3",
   "language": "python",
   "name": "python3"
  },
  "language_info": {
   "codemirror_mode": {
    "name": "ipython",
    "version": 3
   },
   "file_extension": ".py",
   "mimetype": "text/x-python",
   "name": "python",
   "nbconvert_exporter": "python",
   "pygments_lexer": "ipython3",
   "version": "3.6.3"
  }
 },
 "nbformat": 4,
 "nbformat_minor": 2
}
