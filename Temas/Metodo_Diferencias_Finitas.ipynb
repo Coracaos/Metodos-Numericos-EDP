{
 "cells": [
  {
   "cell_type": "markdown",
   "metadata": {},
   "source": [
    "<div><div style=\"text-align:left;display:inline-block;float:left\"><code>Eduardo Cardenas</code></div> <div style=\"text-align:right;display:inline-block;float:right\"><code>Computación Científica - UNMSM</code></div></div>\n",
    "<hr width=100% align=center>\n",
    "<h1 style=\"text-align:center\">Método de Diferencias Finitas</h1>"
   ]
  },
  {
   "cell_type": "markdown",
   "metadata": {},
   "source": [
    "<div style=\"text-align:justify\">El método de diferencias finitas permite hallar la solución aproximada de ecuaciones  diferenciales parciales (EDP) definidas sobre un conjunto finito. Utilizamos formulas que nos permiten aproximar derivadas parciales para luego reemplazarlas en una EDP y despejando encontrar una expresión para aproximar la solución sobre una región cuadrada.</div>"
   ]
  },
  {
   "cell_type": "markdown",
   "metadata": {},
   "source": [
    "### Formulas para aproximar derivadas parciales"
   ]
  },
  {
   "cell_type": "markdown",
   "metadata": {},
   "source": [
    "$$\n",
    "\\frac{\\partial u(x_i,t_j)}{\\partial t} \\simeq \\frac{u(x_i, t_j + k) - u(x_i, t_j)}{k}\n",
    "$$\n",
    "\n",
    "$$\n",
    "\\frac{\\partial u(x_i,t_j)}{\\partial t} \\simeq \\frac{u(x_i, t_j) - u(x_i, t_j - k)}{k}\n",
    "$$\n",
    "\n",
    "$$\n",
    "\\frac{\\partial^2 u(x_i,t_j)}{\\partial t^2} \\simeq \\frac{u(x_i,t_j + k) - 2u(x_i,t_j) + u(x_i,t_j - k)}{k^2}\n",
    "$$\n",
    "\n",
    "$$\n",
    "\\frac{\\partial^2 u(x_i,t_j)}{\\partial x^2} \\simeq \\frac{u(x_i + h,t_j) - 2u(x_i,t_j) + u(x_i -h,t_j)}{h^2}\n",
    "$$\n",
    "\n",
    "Estas formulas pueden ser obtenidas mediante la formula de taylor."
   ]
  },
  {
   "cell_type": "markdown",
   "metadata": {},
   "source": [
    "Simplemente con estas formulas vamos a obtener una expresion matematica para aproximar la solución de ecuaciones diferenciales parciales del tipo :   \n",
    "- Hiperbólica\n",
    "- Elíptica \n",
    "- Parabólica "
   ]
  },
  {
   "cell_type": "markdown",
   "metadata": {},
   "source": [
    "### Recordemos la clasificación de las EDP's"
   ]
  },
  {
   "cell_type": "markdown",
   "metadata": {},
   "source": [
    "sea la EDP :\n",
    "$$ \n",
    "Au_{xx} + Bu_{xy} + Cu_{yy} + Du_x + Eu_y + Fu + G = 0\n",
    "$$\n",
    "\n",
    "entonces la EDP se clasifica según la siguiente tabla :"
   ]
  },
  {
   "cell_type": "markdown",
   "metadata": {},
   "source": [
    "| Tipo de EDP  |  Criterio de Clasificación  |\n",
    "| :------------|:---------------------------:|\n",
    "| Elíptica     |  $B^2-4AC < 0$              |\n",
    "| Parabólica   |  $B^2-4AC = 0$              |\n",
    "| Hiperbólica  |  $B^2-4AC > 0$              |"
   ]
  }
 ],
 "metadata": {
  "kernelspec": {
   "display_name": "Python 3",
   "language": "python",
   "name": "python3"
  },
  "language_info": {
   "codemirror_mode": {
    "name": "ipython",
    "version": 3
   },
   "file_extension": ".py",
   "mimetype": "text/x-python",
   "name": "python",
   "nbconvert_exporter": "python",
   "pygments_lexer": "ipython3",
   "version": "3.6.3"
  }
 },
 "nbformat": 4,
 "nbformat_minor": 2
}
