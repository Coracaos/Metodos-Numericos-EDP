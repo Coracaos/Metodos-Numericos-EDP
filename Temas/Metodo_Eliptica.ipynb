{
 "cells": [
  {
   "cell_type": "markdown",
   "metadata": {},
   "source": [
    "<div><div style=\"text-align:left;display:inline-block;float:left\"><code>Eduardo Cardenas</code></div> <div style=\"text-align:right;display:inline-block;float:right\"><code>Computación Científica - UNMSM</code></div></div>\n",
    "<hr width=100% align=center>\n",
    "<h1 style=\"text-align:center\">Método Numerico - Ecuación de Poisson</h1>"
   ]
  },
  {
   "cell_type": "markdown",
   "metadata": {},
   "source": [
    "$$\n",
    "\\begin{cases}\n",
    " \\dfrac{\\partial^2 u}{\\partial x^2} + \\dfrac{\\partial^2 u}{\\partial y^2}= f(x,y)  & \\text{en } \\Omega = (a,b)\\times(c,d)\\\\ \n",
    " {\\scriptsize\\mbox{ tal que}} & \\\\ \n",
    " u(x,y) = g(x,y) & \\text{para } (x,y)\\in \\partial \\Omega    \\\\\n",
    "\\end{cases} \n",
    "$$"
   ]
  },
  {
   "cell_type": "markdown",
   "metadata": {},
   "source": [
    "Denotamos la siguiente partición:\n",
    "$$h = \\frac{b-a}{n}, \\qquad k = \\frac{c-d}{m} \\quad \\mbox{tal que} \\quad x_{i+1} = x_i + h, \\qquad y_{j+1} = y_j + k $$"
   ]
  },
  {
   "cell_type": "markdown",
   "metadata": {},
   "source": [
    "Utilizamos la siguiente notación :\n",
    "$$ w_{i,j} = u(x_i,t_j) $$"
   ]
  },
  {
   "cell_type": "markdown",
   "metadata": {},
   "source": [
    "### Formulas para aproximar las derivadas parciales\n",
    "Utilizamos las siguientes formulas : "
   ]
  },
  {
   "cell_type": "markdown",
   "metadata": {},
   "source": [
    "$$ \\frac{\\partial^2 u}{\\partial x^2} \\simeq \\frac{w_{i+1,j} -2w_{i,j} + w_{i-1,j}}{h^2}$$\n",
    "\n",
    "$$ \\frac{\\partial^2 u}{\\partial y^2} \\simeq \\frac{w_{i,j+1} -2w_{i,j} + w_{i,j-1}}{k^2}$$"
   ]
  },
  {
   "cell_type": "markdown",
   "metadata": {},
   "source": [
    "### Formula para la Ecuación de Poisson\n",
    "\n",
    "Conocidas las aproximaciones de las derivadas parciales , reemplazemos sus aproximaciones en la ecuación de Po "
   ]
  },
  {
   "cell_type": "markdown",
   "metadata": {},
   "source": [
    "$$ \\frac{w_{i+1,j} -2w_{i,j} + w_{i-1,j}}{h^2} + \\frac{w_{i,j+1}- 2w_{i,j} + w_{i,j-1}}{k^2} = f(x_i,y_i)$$ \n",
    "Sea $\\lambda = \\dfrac{h^2}{k^2}  $ :\n",
    "$$w_{i-1,j} - 2w_{i,j} + w_{i+1,j} + \\lambda w_{i,j-1} -2\\lambda w_{i,j} +\\lambda w_{i,j+1} = h^2f(x_i,y_i)$$\n",
    "\n",
    "$$w_{i-1,j} + w_{i+1,j} -2(1+\\lambda)w_{i,j} + \\lambda w_{i,j-1} + \\lambda w_{i,j+1} = h^2f(x_i,y_i)$$"
   ]
  },
  {
   "cell_type": "markdown",
   "metadata": {},
   "source": [
    "Tomamos la siguiente malla de puntos:"
   ]
  },
  {
   "cell_type": "markdown",
   "metadata": {},
   "source": [
    "![title](vista.png)"
   ]
  },
  {
   "cell_type": "markdown",
   "metadata": {},
   "source": [
    "$$\n",
    "\\scriptsize\n",
    "\\begin{array} \n",
    "~-2(1+\\lambda)w_{1,4} & + & w_{2,4} & + & 0 & + & 0 & + & 0 & + & \\lambda w_{1,3} & & & & & & & & &  = h^2 f_{1,4}-w_{0,4}-\\lambda w_{1,5} \\\\\n",
    "w_{1,4} & - & 2(1+\\lambda)w_{1,4} & + & w_{3,4} & + & 0 & + & 0 & + & 0 & + &\\lambda w_{2,3} & & & & & & &  = h^2 f_{2,4}-\\lambda w_{2,5} \\\\\n",
    "0 & + & w_{2,4} & - & 2(1+\\lambda)w_{3,4} & + & w_{4,4} & + & 0 & + & 0 & + & 0 & + & \\lambda w_{3,3} & & & & &  = h^2 f_{3,4} - \\lambda w_{3,5} \\\\\n",
    "0 & + & 0 & + & w_{3,4} & - & 2(1 + \\lambda) w_{4,4} & + & w_{5,4} & + & 0 & + & 0 & + & 0 & + & \\lambda w_{4,3} & & &  = h^2 f_{4,4} - \\lambda w_{4,5} \\\\\n",
    "\\vdots & & \\vdots & & \\vdots & & \\vdots & & \\vdots & & \\vdots & & \\vdots & & \\vdots  & & \\ddots & & & = \\vdots\n",
    "\\end{array}\n",
    "$$"
   ]
  },
  {
   "cell_type": "markdown",
   "metadata": {},
   "source": [
    "### Código Python"
   ]
  },
  {
   "cell_type": "code",
   "execution_count": 5,
   "metadata": {},
   "outputs": [],
   "source": [
    "import numpy as np\n",
    "\n",
    "def tridiag(a,b,c,N):\n",
    "    A = np.zeros((N,N))\n",
    "    \n",
    "    np.fill_diagonal(A[:-1,1:],a)\n",
    "    np.fill_diagonal(A,b)\n",
    "    np.fill_diagonal(A[1:,:-1],c)\n",
    "    \n",
    "    return A\n",
    "\n",
    "def metodoEliptica(a, b, c, d, h, k, f, g_a, g_b, g_c, g_d):\n",
    "    \n",
    "    \"\"\"\n",
    "    a,b : x in (a,b)\n",
    "    c,d : y in (c,d)\n",
    "    h,k : pasos de la partición para x , y\n",
    "    f : f(x,y)\n",
    "    g_a : función limite izquiero\n",
    "    g_b : función limite derecho\n",
    "    g_c : función limite inferio\n",
    "    g_d : función limite superior\n",
    "    \"\"\"\n",
    "    \n",
    "    r = (h**2)/k**2\n",
    "\n",
    "    n = round((b-a)/h) + 1\n",
    "    m = round((d-c)/k) + 1\n",
    "\n",
    "    x = np.linspace(a , b, n);\n",
    "    y = np.linspace(c , d, m);\n",
    "\n",
    "    p = (n-2)*(m-2)\n",
    "     \n",
    "    C = tridiag(r, -2*(1+r), r, n-2)\n",
    "\n",
    "    A = np.kron(np.eye(m-2), C)\n",
    "    \n",
    "    np.fill_diagonal(A[:(p-(n-2)),(n-2):],r)\n",
    "\n",
    "    np.fill_diagonal(A[(n-2):,:(p-(n-2))],r)\n",
    "\n",
    "    xx,yy = np.meshgrid(x[1:-1],y[1:-1])\n",
    "    \n",
    "    B = np.zeros((m-2,n-2))\n",
    "    \n",
    "    for i in range(m-2):\n",
    "        for j in range(n-2):\n",
    "            B[i,j] = (h**2) * f(x[j+1], y[-(i+2)]) \n",
    "\n",
    "    for i in range(m-2):  \n",
    "        B[i,0] -= g_a( y[-(i+2)] )\n",
    "        B[i,-1] -= g_b( y[-(i+2)] )         \n",
    "\n",
    "    for j in range(n-2):\n",
    "        B[0,j] -= r*g_d(x[j+1])\n",
    "        B[-1,j] -= r*g_c(x[j+1]) \n",
    "    \n",
    "    B = np.reshape(B, np.size(B))\n",
    "\n",
    "    W = np.linalg.solve(A, B)\n",
    "\n",
    "    #malla de solucion\n",
    "\n",
    "    sol = np.zeros((n,m))\n",
    "\n",
    "    sol[0,:]  = [g_d(i) for i in x]\n",
    "    sol[-1,:] = [g_c(i) for i in x]\n",
    "    sol[:,0]  = [g_a(i) for i in y]\n",
    "    sol[:,-1] = [g_b(i) for i in y]\n",
    "\n",
    "    W = np.reshape(W, (m-2,n-2) )    \n",
    "\n",
    "    sol[1:-1,1:-1] = W\n",
    "\n",
    "    return sol"
   ]
  },
  {
   "cell_type": "markdown",
   "metadata": {},
   "source": [
    "### Ejercicio (Análisis Matemático - Burden - pag 719)"
   ]
  },
  {
   "cell_type": "markdown",
   "metadata": {},
   "source": [
    "$$\n",
    "\\begin{cases}\n",
    " \\dfrac{\\partial^2 u}{\\partial x^2} + \\dfrac{\\partial^2 u}{\\partial y^2}= 0  & \\text{en } \\Omega = (0,0.5)\\times(0,0.5)\\\\ \n",
    " {\\scriptsize\\mbox{ tal que}} & \\\\ \n",
    " u(0,y) = 0 & u(x,0) = 0 \\\\\n",
    " u(x,0.5) = 200x & u(0.5,y) =200y \n",
    "\\end{cases} \n",
    "$$\n",
    "\n",
    "Determinar la solución para $h=k=0.125$"
   ]
  },
  {
   "cell_type": "markdown",
   "metadata": {},
   "source": [
    "### Solución\n",
    "\n",
    "Utilizamos el metodo desarrollado para aproximar la solución"
   ]
  },
  {
   "cell_type": "code",
   "execution_count": 13,
   "metadata": {},
   "outputs": [],
   "source": [
    "sol_aprox = metodoEliptica(0, 0.5, 0, 0.5, 0.125, 0.125, lambda x, y: 0,\n",
    "                                                         lambda x: 0, \n",
    "                                                         lambda x: 200*x,\n",
    "                                                         lambda x: 0,\n",
    "                                                         lambda x: 200*x)"
   ]
  },
  {
   "cell_type": "code",
   "execution_count": 14,
   "metadata": {},
   "outputs": [
    {
     "data": {
      "text/plain": [
       "array([[  0.  ,  25.  ,  50.  ,  75.  ,   0.  ],\n",
       "       [  0.  ,  18.75,  37.5 ,  56.25,  25.  ],\n",
       "       [  0.  ,  12.5 ,  25.  ,  37.5 ,  50.  ],\n",
       "       [  0.  ,   6.25,  12.5 ,  18.75,  75.  ],\n",
       "       [  0.  ,   0.  ,   0.  ,   0.  , 100.  ]])"
      ]
     },
     "execution_count": 14,
     "metadata": {},
     "output_type": "execute_result"
    }
   ],
   "source": [
    "sol_aprox"
   ]
  }
 ],
 "metadata": {
  "kernelspec": {
   "display_name": "Python 3",
   "language": "python",
   "name": "python3"
  },
  "language_info": {
   "codemirror_mode": {
    "name": "ipython",
    "version": 3
   },
   "file_extension": ".py",
   "mimetype": "text/x-python",
   "name": "python",
   "nbconvert_exporter": "python",
   "pygments_lexer": "ipython3",
   "version": "3.6.3"
  }
 },
 "nbformat": 4,
 "nbformat_minor": 2
}
